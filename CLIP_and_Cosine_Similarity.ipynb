{
  "nbformat": 4,
  "nbformat_minor": 0,
  "metadata": {
    "colab": {
      "provenance": [],
      "authorship_tag": "ABX9TyM2mvUPOUP7ZIzfStU0Xi1S",
      "include_colab_link": true
    },
    "kernelspec": {
      "name": "python3",
      "display_name": "Python 3"
    },
    "language_info": {
      "name": "python"
    }
  },
  "cells": [
    {
      "cell_type": "markdown",
      "metadata": {
        "id": "view-in-github",
        "colab_type": "text"
      },
      "source": [
        "<a href=\"https://colab.research.google.com/github/itu-itis23-majidov23/Prediction-of-Coordinates-based-on-Similarity/blob/main/CLIP_and_Cosine_Similarity.ipynb\" target=\"_parent\"><img src=\"https://colab.research.google.com/assets/colab-badge.svg\" alt=\"Open In Colab\"/></a>"
      ]
    },
    {
      "cell_type": "code",
      "source": [
        "!pip install git+https://github.com/openai/CLIP.git"
      ],
      "metadata": {
        "colab": {
          "base_uri": "https://localhost:8080/"
        },
        "id": "oqYRIFZCDIe3",
        "outputId": "e5bf3e64-2d9f-4da6-c392-fd30d60a2354"
      },
      "execution_count": null,
      "outputs": [
        {
          "output_type": "stream",
          "name": "stdout",
          "text": [
            "Collecting git+https://github.com/openai/CLIP.git\n",
            "  Cloning https://github.com/openai/CLIP.git to /tmp/pip-req-build-mas_2pyc\n",
            "  Running command git clone --filter=blob:none --quiet https://github.com/openai/CLIP.git /tmp/pip-req-build-mas_2pyc\n",
            "  Resolved https://github.com/openai/CLIP.git to commit dcba3cb2e2827b402d2701e7e1c7d9fed8a20ef1\n",
            "  Preparing metadata (setup.py) ... \u001b[?25l\u001b[?25hdone\n",
            "Collecting ftfy (from clip==1.0)\n",
            "  Downloading ftfy-6.3.1-py3-none-any.whl.metadata (7.3 kB)\n",
            "Requirement already satisfied: packaging in /usr/local/lib/python3.10/dist-packages (from clip==1.0) (24.2)\n",
            "Requirement already satisfied: regex in /usr/local/lib/python3.10/dist-packages (from clip==1.0) (2024.11.6)\n",
            "Requirement already satisfied: tqdm in /usr/local/lib/python3.10/dist-packages (from clip==1.0) (4.67.1)\n",
            "Requirement already satisfied: torch in /usr/local/lib/python3.10/dist-packages (from clip==1.0) (2.5.1+cu121)\n",
            "Requirement already satisfied: torchvision in /usr/local/lib/python3.10/dist-packages (from clip==1.0) (0.20.1+cu121)\n",
            "Requirement already satisfied: wcwidth in /usr/local/lib/python3.10/dist-packages (from ftfy->clip==1.0) (0.2.13)\n",
            "Requirement already satisfied: filelock in /usr/local/lib/python3.10/dist-packages (from torch->clip==1.0) (3.16.1)\n",
            "Requirement already satisfied: typing-extensions>=4.8.0 in /usr/local/lib/python3.10/dist-packages (from torch->clip==1.0) (4.12.2)\n",
            "Requirement already satisfied: networkx in /usr/local/lib/python3.10/dist-packages (from torch->clip==1.0) (3.4.2)\n",
            "Requirement already satisfied: jinja2 in /usr/local/lib/python3.10/dist-packages (from torch->clip==1.0) (3.1.4)\n",
            "Requirement already satisfied: fsspec in /usr/local/lib/python3.10/dist-packages (from torch->clip==1.0) (2024.10.0)\n",
            "Requirement already satisfied: sympy==1.13.1 in /usr/local/lib/python3.10/dist-packages (from torch->clip==1.0) (1.13.1)\n",
            "Requirement already satisfied: mpmath<1.4,>=1.1.0 in /usr/local/lib/python3.10/dist-packages (from sympy==1.13.1->torch->clip==1.0) (1.3.0)\n",
            "Requirement already satisfied: numpy in /usr/local/lib/python3.10/dist-packages (from torchvision->clip==1.0) (1.26.4)\n",
            "Requirement already satisfied: pillow!=8.3.*,>=5.3.0 in /usr/local/lib/python3.10/dist-packages (from torchvision->clip==1.0) (11.0.0)\n",
            "Requirement already satisfied: MarkupSafe>=2.0 in /usr/local/lib/python3.10/dist-packages (from jinja2->torch->clip==1.0) (3.0.2)\n",
            "Downloading ftfy-6.3.1-py3-none-any.whl (44 kB)\n",
            "\u001b[2K   \u001b[90m━━━━━━━━━━━━━━━━━━━━━━━━━━━━━━━━━━━━━━━━\u001b[0m \u001b[32m44.8/44.8 kB\u001b[0m \u001b[31m2.0 MB/s\u001b[0m eta \u001b[36m0:00:00\u001b[0m\n",
            "\u001b[?25hBuilding wheels for collected packages: clip\n",
            "  Building wheel for clip (setup.py) ... \u001b[?25l\u001b[?25hdone\n",
            "  Created wheel for clip: filename=clip-1.0-py3-none-any.whl size=1369489 sha256=0a9075f42aa332e49ecf4b6c26332a1f48724ded5874cd2214f0034d12cec17e\n",
            "  Stored in directory: /tmp/pip-ephem-wheel-cache-bs5xuy5n/wheels/da/2b/4c/d6691fa9597aac8bb85d2ac13b112deb897d5b50f5ad9a37e4\n",
            "Successfully built clip\n",
            "Installing collected packages: ftfy, clip\n",
            "Successfully installed clip-1.0 ftfy-6.3.1\n"
          ]
        }
      ]
    },
    {
      "cell_type": "code",
      "source": [
        "from google.colab import drive\n",
        "drive.mount('/content/drive')\n"
      ],
      "metadata": {
        "colab": {
          "base_uri": "https://localhost:8080/"
        },
        "id": "bNrD-daGDPqs",
        "outputId": "765e6481-7201-4407-c87b-f3a6fccb18f2"
      },
      "execution_count": null,
      "outputs": [
        {
          "output_type": "stream",
          "name": "stdout",
          "text": [
            "Mounted at /content/drive\n"
          ]
        }
      ]
    },
    {
      "cell_type": "code",
      "execution_count": null,
      "metadata": {
        "colab": {
          "base_uri": "https://localhost:8080/"
        },
        "id": "IAGZMvAKDHsN",
        "outputId": "bf81a860-412c-4974-a715-ec315d438616"
      },
      "outputs": [
        {
          "output_type": "stream",
          "name": "stderr",
          "text": [
            "100%|███████████████████████████████████████| 338M/338M [00:07<00:00, 45.7MiB/s]\n"
          ]
        },
        {
          "output_type": "stream",
          "name": "stdout",
          "text": [
            "Results saved to /content/submission_123.csv\n"
          ]
        }
      ],
      "source": [
        "import os\n",
        "import numpy as np\n",
        "import pandas as pd\n",
        "import torch\n",
        "from sklearn.metrics.pairwise import cosine_similarity\n",
        "from PIL import Image\n",
        "import clip\n",
        "\n",
        "# Load the CLIP model\n",
        "device = \"cuda\" if torch.cuda.is_available() else \"cpu\"\n",
        "clip_model, preprocess = clip.load(\"ViT-B/32\", device=device)\n",
        "\n",
        "def load_image(image_path):\n",
        "    input_image = Image.open(image_path)\n",
        "    return input_image\n",
        "\n",
        "def get_image_embeddings(object_image):\n",
        "    # Preprocess the image and convert to tensor\n",
        "    image_input = preprocess(object_image).unsqueeze(0).to(device)\n",
        "\n",
        "    # Extract features using CLIP\n",
        "    with torch.no_grad():\n",
        "        image_features = clip_model.encode_image(image_input)\n",
        "\n",
        "    return image_features.cpu().numpy()\n",
        "\n",
        "def calculate_lat_lon_for_test_images(train_csv, train_folder, test_folder, output_csv):\n",
        "    # Load training dataset\n",
        "    train_data = pd.read_csv(train_csv, delimiter=';')\n",
        "\n",
        "    # Compute embeddings for all training images\n",
        "    train_embeddings = []\n",
        "    for filename in train_data['filename']:\n",
        "        image_path = f\"{train_folder}/{filename}\"\n",
        "        image_obj = load_image(image_path)\n",
        "        embedding = get_image_embeddings(image_obj)\n",
        "        train_embeddings.append(embedding.flatten())\n",
        "    train_embeddings = np.array(train_embeddings)\n",
        "\n",
        "    # Get test image embeddings and predict latitude/longitude\n",
        "    test_filenames = [file for file in os.listdir(test_folder) if file.endswith(('jpeg', 'jpg', 'png'))]\n",
        "    results = []\n",
        "\n",
        "    for test_filename in test_filenames:\n",
        "        test_image_path = f\"{test_folder}/{test_filename}\"\n",
        "        test_image = load_image(test_image_path)\n",
        "        test_embedding = get_image_embeddings(test_image).flatten()\n",
        "\n",
        "        # Calculate similarity with all training images\n",
        "        similarities = cosine_similarity([test_embedding], train_embeddings)[0]\n",
        "\n",
        "        # Get the indices of 4 most similar images\n",
        "        top_indices = similarities.argsort()[-4:][::-1]\n",
        "\n",
        "        # Calculate mean latitude and longitude\n",
        "        top_latitudes = train_data.iloc[top_indices]['latitude']\n",
        "        top_longitudes = train_data.iloc[top_indices]['longitude']\n",
        "\n",
        "        predicted_latitude = top_latitudes.mean()\n",
        "        predicted_longitude = top_longitudes.mean()\n",
        "\n",
        "        # Append results\n",
        "        results.append({\n",
        "            'filename': test_filename,\n",
        "            'latitude': predicted_latitude,\n",
        "            'longitude': predicted_longitude\n",
        "        })\n",
        "\n",
        "    # Save results to CSV\n",
        "    results_df = pd.DataFrame(results)\n",
        "    results_df.to_csv(output_csv, index=False)\n",
        "    print(f\"Results saved to {output_csv}\")\n",
        "\n",
        "# Example usage\n",
        "train_csv = '/content/drive/MyDrive/Folder/Extracted/train.csv'  # CSV file containing filename, latitude, longitude\n",
        "train_folder = '/content/drive/MyDrive/Folder/Extracted/train'  # Folder containing training images\n",
        "test_folder = '/content/drive/MyDrive/Folder/Extracted/test'  # Folder containing test images\n",
        "output_csv = '/content/submission_123.csv'  # Output CSV file\n",
        "\n",
        "calculate_lat_lon_for_test_images(train_csv, train_folder, test_folder, output_csv)\n"
      ]
    },
    {
      "cell_type": "code",
      "source": [],
      "metadata": {
        "id": "JGfLBTcdDcjO"
      },
      "execution_count": null,
      "outputs": []
    }
  ]
}